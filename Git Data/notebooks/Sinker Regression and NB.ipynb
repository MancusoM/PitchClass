{
 "cells": [
  {
   "cell_type": "code",
   "execution_count": 1,
   "metadata": {},
   "outputs": [],
   "source": [
    "import pandas as pd\n",
    "import seaborn as sns\n",
    "import numpy as np \n",
    "import matplotlib.pyplot as plt\n",
    "%matplotlib inline"
   ]
  },
  {
   "cell_type": "code",
   "execution_count": 2,
   "metadata": {},
   "outputs": [],
   "source": [
    "sinker = pd.read_csv(\"sinker.csv\")"
   ]
  },
  {
   "cell_type": "code",
   "execution_count": 3,
   "metadata": {},
   "outputs": [
    {
     "data": {
      "text/html": [
       "<div>\n",
       "<style scoped>\n",
       "    .dataframe tbody tr th:only-of-type {\n",
       "        vertical-align: middle;\n",
       "    }\n",
       "\n",
       "    .dataframe tbody tr th {\n",
       "        vertical-align: top;\n",
       "    }\n",
       "\n",
       "    .dataframe thead th {\n",
       "        text-align: right;\n",
       "    }\n",
       "</style>\n",
       "<table border=\"1\" class=\"dataframe\">\n",
       "  <thead>\n",
       "    <tr style=\"text-align: right;\">\n",
       "      <th></th>\n",
       "      <th>year</th>\n",
       "      <th>last_name</th>\n",
       "      <th>first_name</th>\n",
       "      <th>Full_name</th>\n",
       "      <th>pitcher_id</th>\n",
       "      <th>team_name</th>\n",
       "      <th>team_name_abbrev</th>\n",
       "      <th>avg_speed</th>\n",
       "      <th>pitch_type</th>\n",
       "      <th>player_pitch_id</th>\n",
       "      <th>pitch_type_name</th>\n",
       "      <th>pitcher_break_z</th>\n",
       "      <th>pitcher_break_x</th>\n",
       "      <th>Spin Rate</th>\n",
       "      <th>Spin Effiency</th>\n",
       "      <th>Class</th>\n",
       "    </tr>\n",
       "  </thead>\n",
       "  <tbody>\n",
       "    <tr>\n",
       "      <td>0</td>\n",
       "      <td>2021</td>\n",
       "      <td>Bergen</td>\n",
       "      <td>Travis</td>\n",
       "      <td>Travis Bergen</td>\n",
       "      <td>664157</td>\n",
       "      <td>Blue Jays</td>\n",
       "      <td>TOR</td>\n",
       "      <td>92.3</td>\n",
       "      <td>FF</td>\n",
       "      <td>664157FF</td>\n",
       "      <td>4-Seamer</td>\n",
       "      <td>16.0</td>\n",
       "      <td>13.3</td>\n",
       "      <td>2341</td>\n",
       "      <td>98.0</td>\n",
       "      <td>0</td>\n",
       "    </tr>\n",
       "    <tr>\n",
       "      <td>1</td>\n",
       "      <td>2021</td>\n",
       "      <td>Sceroler</td>\n",
       "      <td>Mac</td>\n",
       "      <td>Mac Sceroler</td>\n",
       "      <td>669135</td>\n",
       "      <td>Orioles</td>\n",
       "      <td>BAL</td>\n",
       "      <td>92.7</td>\n",
       "      <td>FF</td>\n",
       "      <td>669135FF</td>\n",
       "      <td>4-Seamer</td>\n",
       "      <td>13.1</td>\n",
       "      <td>5.7</td>\n",
       "      <td>2487</td>\n",
       "      <td>90.1</td>\n",
       "      <td>0</td>\n",
       "    </tr>\n",
       "    <tr>\n",
       "      <td>2</td>\n",
       "      <td>2021</td>\n",
       "      <td>Beasley</td>\n",
       "      <td>Jeremy</td>\n",
       "      <td>Jeremy Beasley</td>\n",
       "      <td>676886</td>\n",
       "      <td>Blue Jays</td>\n",
       "      <td>TOR</td>\n",
       "      <td>95.1</td>\n",
       "      <td>FF</td>\n",
       "      <td>676886FF</td>\n",
       "      <td>4-Seamer</td>\n",
       "      <td>13.0</td>\n",
       "      <td>6.4</td>\n",
       "      <td>2500</td>\n",
       "      <td>85.1</td>\n",
       "      <td>0</td>\n",
       "    </tr>\n",
       "    <tr>\n",
       "      <td>3</td>\n",
       "      <td>2021</td>\n",
       "      <td>Kela</td>\n",
       "      <td>Keone</td>\n",
       "      <td>Keone Kela</td>\n",
       "      <td>605309</td>\n",
       "      <td>Padres</td>\n",
       "      <td>SD</td>\n",
       "      <td>94.7</td>\n",
       "      <td>FF</td>\n",
       "      <td>605309FF</td>\n",
       "      <td>4-Seamer</td>\n",
       "      <td>11.3</td>\n",
       "      <td>6.3</td>\n",
       "      <td>2336</td>\n",
       "      <td>91.1</td>\n",
       "      <td>0</td>\n",
       "    </tr>\n",
       "    <tr>\n",
       "      <td>4</td>\n",
       "      <td>2021</td>\n",
       "      <td>Miller</td>\n",
       "      <td>Shelby</td>\n",
       "      <td>Shelby Miller</td>\n",
       "      <td>571946</td>\n",
       "      <td>Pirates</td>\n",
       "      <td>PIT</td>\n",
       "      <td>93.4</td>\n",
       "      <td>FF</td>\n",
       "      <td>571946FF</td>\n",
       "      <td>4-Seamer</td>\n",
       "      <td>12.6</td>\n",
       "      <td>8.0</td>\n",
       "      <td>2362</td>\n",
       "      <td>95.0</td>\n",
       "      <td>0</td>\n",
       "    </tr>\n",
       "  </tbody>\n",
       "</table>\n",
       "</div>"
      ],
      "text/plain": [
       "   year last_name  first_name       Full_name  pitcher_id  team_name  \\\n",
       "0  2021    Bergen      Travis   Travis Bergen      664157  Blue Jays   \n",
       "1  2021  Sceroler         Mac    Mac Sceroler      669135    Orioles   \n",
       "2  2021   Beasley      Jeremy  Jeremy Beasley      676886  Blue Jays   \n",
       "3  2021      Kela       Keone      Keone Kela      605309     Padres   \n",
       "4  2021    Miller      Shelby   Shelby Miller      571946    Pirates   \n",
       "\n",
       "  team_name_abbrev  avg_speed pitch_type player_pitch_id pitch_type_name  \\\n",
       "0              TOR       92.3         FF        664157FF        4-Seamer   \n",
       "1              BAL       92.7         FF        669135FF        4-Seamer   \n",
       "2              TOR       95.1         FF        676886FF        4-Seamer   \n",
       "3               SD       94.7         FF        605309FF        4-Seamer   \n",
       "4              PIT       93.4         FF        571946FF        4-Seamer   \n",
       "\n",
       "   pitcher_break_z  pitcher_break_x  Spin Rate  Spin Effiency   Class  \n",
       "0             16.0             13.3       2341            98.0      0  \n",
       "1             13.1              5.7       2487            90.1      0  \n",
       "2             13.0              6.4       2500            85.1      0  \n",
       "3             11.3              6.3       2336            91.1      0  \n",
       "4             12.6              8.0       2362            95.0      0  "
      ]
     },
     "execution_count": 3,
     "metadata": {},
     "output_type": "execute_result"
    }
   ],
   "source": [
    "sinker.head()"
   ]
  },
  {
   "cell_type": "code",
   "execution_count": 4,
   "metadata": {},
   "outputs": [],
   "source": [
    "uu_features = ['last_name', 'year',' first_name', 'Full_name', 'pitcher_id', 'team_name','team_name_abbrev','player_pitch_id','pitch_type_name','pitch_type']"
   ]
  },
  {
   "cell_type": "code",
   "execution_count": 5,
   "metadata": {},
   "outputs": [],
   "source": [
    "sinker_fixed = sinker.drop(uu_features, axis =1)"
   ]
  },
  {
   "cell_type": "code",
   "execution_count": 6,
   "metadata": {},
   "outputs": [
    {
     "name": "stdout",
     "output_type": "stream",
     "text": [
      "<class 'pandas.core.frame.DataFrame'>\n",
      "RangeIndex: 1690 entries, 0 to 1689\n",
      "Data columns (total 6 columns):\n",
      "avg_speed          1690 non-null float64\n",
      "pitcher_break_z    1690 non-null float64\n",
      "pitcher_break_x    1690 non-null float64\n",
      "Spin Rate          1690 non-null int64\n",
      "Spin Effiency      1690 non-null float64\n",
      "Class              1690 non-null int64\n",
      "dtypes: float64(4), int64(2)\n",
      "memory usage: 79.3 KB\n"
     ]
    }
   ],
   "source": [
    "sinker_fixed.info()"
   ]
  },
  {
   "cell_type": "code",
   "execution_count": 7,
   "metadata": {},
   "outputs": [],
   "source": [
    "from sklearn.model_selection import train_test_split"
   ]
  },
  {
   "cell_type": "code",
   "execution_count": 8,
   "metadata": {},
   "outputs": [],
   "source": [
    "x = sinker_fixed.drop(\"Class\", axis =1)\n",
    "y = sinker_fixed[\"Class\"]"
   ]
  },
  {
   "cell_type": "code",
   "execution_count": 9,
   "metadata": {},
   "outputs": [],
   "source": [
    "from sklearn.linear_model import LogisticRegression"
   ]
  },
  {
   "cell_type": "code",
   "execution_count": 10,
   "metadata": {},
   "outputs": [],
   "source": [
    "log_model = LogisticRegression()"
   ]
  },
  {
   "cell_type": "code",
   "execution_count": 11,
   "metadata": {},
   "outputs": [],
   "source": [
    "x_train, x_test, y_train, y_test = train_test_split(x,y, test_size = 0.2)"
   ]
  },
  {
   "cell_type": "code",
   "execution_count": 12,
   "metadata": {},
   "outputs": [
    {
     "name": "stderr",
     "output_type": "stream",
     "text": [
      "/opt/anaconda3/lib/python3.7/site-packages/sklearn/linear_model/logistic.py:432: FutureWarning: Default solver will be changed to 'lbfgs' in 0.22. Specify a solver to silence this warning.\n",
      "  FutureWarning)\n"
     ]
    },
    {
     "data": {
      "text/plain": [
       "LogisticRegression(C=1.0, class_weight=None, dual=False, fit_intercept=True,\n",
       "                   intercept_scaling=1, l1_ratio=None, max_iter=100,\n",
       "                   multi_class='warn', n_jobs=None, penalty='l2',\n",
       "                   random_state=None, solver='warn', tol=0.0001, verbose=0,\n",
       "                   warm_start=False)"
      ]
     },
     "execution_count": 12,
     "metadata": {},
     "output_type": "execute_result"
    }
   ],
   "source": [
    "log_model.fit(x_train, y_train)"
   ]
  },
  {
   "cell_type": "code",
   "execution_count": 13,
   "metadata": {},
   "outputs": [],
   "source": [
    "predictions = log_model.predict(x_test)"
   ]
  },
  {
   "cell_type": "code",
   "execution_count": 14,
   "metadata": {},
   "outputs": [],
   "source": [
    "from sklearn.metrics import confusion_matrix, accuracy_score, classification_report"
   ]
  },
  {
   "cell_type": "code",
   "execution_count": 15,
   "metadata": {},
   "outputs": [
    {
     "data": {
      "text/plain": [
       "0.9497041420118343"
      ]
     },
     "execution_count": 15,
     "metadata": {},
     "output_type": "execute_result"
    }
   ],
   "source": [
    "accuracy_score(predictions, y_test)"
   ]
  },
  {
   "cell_type": "code",
   "execution_count": 16,
   "metadata": {},
   "outputs": [
    {
     "data": {
      "text/plain": [
       "array([[287,   6],\n",
       "       [ 11,  34]])"
      ]
     },
     "execution_count": 16,
     "metadata": {},
     "output_type": "execute_result"
    }
   ],
   "source": [
    "cm = confusion_matrix(y_test, predictions)\n",
    "cm"
   ]
  },
  {
   "cell_type": "code",
   "execution_count": 17,
   "metadata": {},
   "outputs": [
    {
     "name": "stdout",
     "output_type": "stream",
     "text": [
      "              precision    recall  f1-score   support\n",
      "\n",
      "           0       0.96      0.98      0.97       293\n",
      "           1       0.85      0.76      0.80        45\n",
      "\n",
      "    accuracy                           0.95       338\n",
      "   macro avg       0.91      0.87      0.89       338\n",
      "weighted avg       0.95      0.95      0.95       338\n",
      "\n"
     ]
    }
   ],
   "source": [
    "print (classification_report(y_test, predictions))"
   ]
  },
  {
   "cell_type": "code",
   "execution_count": 18,
   "metadata": {},
   "outputs": [],
   "source": [
    "NB = sinker_fixed[:]"
   ]
  },
  {
   "cell_type": "code",
   "execution_count": 19,
   "metadata": {},
   "outputs": [],
   "source": [
    "from sklearn.naive_bayes import GaussianNB"
   ]
  },
  {
   "cell_type": "code",
   "execution_count": 20,
   "metadata": {},
   "outputs": [],
   "source": [
    "model = GaussianNB()"
   ]
  },
  {
   "cell_type": "code",
   "execution_count": 21,
   "metadata": {},
   "outputs": [
    {
     "name": "stdout",
     "output_type": "stream",
     "text": [
      "(1352, 6)\n",
      "(338, 6)\n"
     ]
    }
   ],
   "source": [
    "train, test = train_test_split(NB, test_size = 0.2)\n",
    "print(train.shape)\n",
    "print(test.shape)"
   ]
  },
  {
   "cell_type": "code",
   "execution_count": 22,
   "metadata": {},
   "outputs": [
    {
     "name": "stdout",
     "output_type": "stream",
     "text": [
      "(1267, 5) (1267,)\n",
      "(423, 5) (423,)\n"
     ]
    }
   ],
   "source": [
    "x_train, x_test, y_train, y_test = train_test_split(x,y)\n",
    "print(x_train.shape,y_train.shape )\n",
    "print(x_test.shape, y_test.shape)"
   ]
  },
  {
   "cell_type": "code",
   "execution_count": 23,
   "metadata": {},
   "outputs": [
    {
     "data": {
      "text/plain": [
       "GaussianNB(priors=None, var_smoothing=1e-09)"
      ]
     },
     "execution_count": 23,
     "metadata": {},
     "output_type": "execute_result"
    }
   ],
   "source": [
    "model.fit(x_train,y_train)"
   ]
  },
  {
   "cell_type": "code",
   "execution_count": 24,
   "metadata": {},
   "outputs": [],
   "source": [
    "predictedNB_= model.predict(x_test)\n",
    "expectedNB_= y_test"
   ]
  },
  {
   "cell_type": "code",
   "execution_count": 25,
   "metadata": {},
   "outputs": [],
   "source": [
    "from sklearn import metrics"
   ]
  },
  {
   "cell_type": "code",
   "execution_count": 26,
   "metadata": {},
   "outputs": [
    {
     "data": {
      "text/plain": [
       "0.9243498817966903"
      ]
     },
     "execution_count": 26,
     "metadata": {},
     "output_type": "execute_result"
    }
   ],
   "source": [
    "metrics.accuracy_score(predictedNB_,expectedNB_)"
   ]
  },
  {
   "cell_type": "code",
   "execution_count": 27,
   "metadata": {},
   "outputs": [
    {
     "data": {
      "text/plain": [
       "array([[344,  24],\n",
       "       [  8,  47]])"
      ]
     },
     "execution_count": 27,
     "metadata": {},
     "output_type": "execute_result"
    }
   ],
   "source": [
    "matrix = confusion_matrix(expectedNB_, predictedNB_)\n",
    "matrix"
   ]
  },
  {
   "cell_type": "code",
   "execution_count": 28,
   "metadata": {},
   "outputs": [
    {
     "name": "stdout",
     "output_type": "stream",
     "text": [
      "              precision    recall  f1-score   support\n",
      "\n",
      "           0       0.98      0.93      0.96       368\n",
      "           1       0.66      0.85      0.75        55\n",
      "\n",
      "    accuracy                           0.92       423\n",
      "   macro avg       0.82      0.89      0.85       423\n",
      "weighted avg       0.94      0.92      0.93       423\n",
      "\n"
     ]
    }
   ],
   "source": [
    "print(classification_report(expectedNB_, predictedNB_))"
   ]
  },
  {
   "cell_type": "code",
   "execution_count": null,
   "metadata": {},
   "outputs": [],
   "source": []
  },
  {
   "cell_type": "code",
   "execution_count": null,
   "metadata": {},
   "outputs": [],
   "source": []
  },
  {
   "cell_type": "code",
   "execution_count": null,
   "metadata": {},
   "outputs": [],
   "source": []
  },
  {
   "cell_type": "code",
   "execution_count": null,
   "metadata": {},
   "outputs": [],
   "source": []
  }
 ],
 "metadata": {
  "kernelspec": {
   "display_name": "Python 3",
   "language": "python",
   "name": "python3"
  },
  "language_info": {
   "codemirror_mode": {
    "name": "ipython",
    "version": 3
   },
   "file_extension": ".py",
   "mimetype": "text/x-python",
   "name": "python",
   "nbconvert_exporter": "python",
   "pygments_lexer": "ipython3",
   "version": "3.7.4"
  }
 },
 "nbformat": 4,
 "nbformat_minor": 2
}
