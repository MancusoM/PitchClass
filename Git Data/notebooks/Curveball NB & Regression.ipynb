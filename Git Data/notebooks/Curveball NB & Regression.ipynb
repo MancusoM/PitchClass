{
 "cells": [
  {
   "cell_type": "code",
   "execution_count": 33,
   "metadata": {},
   "outputs": [],
   "source": [
    "import pandas as pd\n",
    "import seaborn as sns\n",
    "import numpy as np \n",
    "import matplotlib.pyplot as plt\n",
    "%matplotlib inline"
   ]
  },
  {
   "cell_type": "code",
   "execution_count": 34,
   "metadata": {},
   "outputs": [],
   "source": [
    "data_cb = pd.read_csv(\"Curveball.csv\")"
   ]
  },
  {
   "cell_type": "code",
   "execution_count": 35,
   "metadata": {},
   "outputs": [
    {
     "data": {
      "text/html": [
       "<div>\n",
       "<style scoped>\n",
       "    .dataframe tbody tr th:only-of-type {\n",
       "        vertical-align: middle;\n",
       "    }\n",
       "\n",
       "    .dataframe tbody tr th {\n",
       "        vertical-align: top;\n",
       "    }\n",
       "\n",
       "    .dataframe thead th {\n",
       "        text-align: right;\n",
       "    }\n",
       "</style>\n",
       "<table border=\"1\" class=\"dataframe\">\n",
       "  <thead>\n",
       "    <tr style=\"text-align: right;\">\n",
       "      <th></th>\n",
       "      <th>year</th>\n",
       "      <th>last_name</th>\n",
       "      <th>first_name</th>\n",
       "      <th>Full_name</th>\n",
       "      <th>pitcher_id</th>\n",
       "      <th>team_name</th>\n",
       "      <th>team_name_abbrev</th>\n",
       "      <th>avg_speed</th>\n",
       "      <th>pitch_type</th>\n",
       "      <th>player_pitch_id</th>\n",
       "      <th>pitch_type_name</th>\n",
       "      <th>pitcher_break_z</th>\n",
       "      <th>rise</th>\n",
       "      <th>pitcher_break_x</th>\n",
       "      <th>Tail</th>\n",
       "      <th>Spin Rate</th>\n",
       "      <th>Spin Effiency</th>\n",
       "      <th>Class</th>\n",
       "    </tr>\n",
       "  </thead>\n",
       "  <tbody>\n",
       "    <tr>\n",
       "      <td>0</td>\n",
       "      <td>2021</td>\n",
       "      <td>Bergen</td>\n",
       "      <td>Travis</td>\n",
       "      <td>Travis Bergen</td>\n",
       "      <td>664157</td>\n",
       "      <td>Blue Jays</td>\n",
       "      <td>TOR</td>\n",
       "      <td>92.3</td>\n",
       "      <td>FF</td>\n",
       "      <td>664157FF</td>\n",
       "      <td>4-Seamer</td>\n",
       "      <td>16.0</td>\n",
       "      <td>3</td>\n",
       "      <td>13.3</td>\n",
       "      <td>62</td>\n",
       "      <td>2341</td>\n",
       "      <td>98.0</td>\n",
       "      <td>0</td>\n",
       "    </tr>\n",
       "    <tr>\n",
       "      <td>1</td>\n",
       "      <td>2021</td>\n",
       "      <td>Sceroler</td>\n",
       "      <td>Mac</td>\n",
       "      <td>Mac Sceroler</td>\n",
       "      <td>669135</td>\n",
       "      <td>Orioles</td>\n",
       "      <td>BAL</td>\n",
       "      <td>92.7</td>\n",
       "      <td>FF</td>\n",
       "      <td>669135FF</td>\n",
       "      <td>4-Seamer</td>\n",
       "      <td>13.1</td>\n",
       "      <td>13</td>\n",
       "      <td>5.7</td>\n",
       "      <td>-15</td>\n",
       "      <td>2487</td>\n",
       "      <td>90.1</td>\n",
       "      <td>0</td>\n",
       "    </tr>\n",
       "    <tr>\n",
       "      <td>2</td>\n",
       "      <td>2021</td>\n",
       "      <td>Beasley</td>\n",
       "      <td>Jeremy</td>\n",
       "      <td>Jeremy Beasley</td>\n",
       "      <td>676886</td>\n",
       "      <td>Blue Jays</td>\n",
       "      <td>TOR</td>\n",
       "      <td>95.1</td>\n",
       "      <td>FF</td>\n",
       "      <td>676886FF</td>\n",
       "      <td>4-Seamer</td>\n",
       "      <td>13.0</td>\n",
       "      <td>9</td>\n",
       "      <td>6.4</td>\n",
       "      <td>-13</td>\n",
       "      <td>2500</td>\n",
       "      <td>85.1</td>\n",
       "      <td>0</td>\n",
       "    </tr>\n",
       "    <tr>\n",
       "      <td>3</td>\n",
       "      <td>2021</td>\n",
       "      <td>Kela</td>\n",
       "      <td>Keone</td>\n",
       "      <td>Keone Kela</td>\n",
       "      <td>605309</td>\n",
       "      <td>Padres</td>\n",
       "      <td>SD</td>\n",
       "      <td>94.7</td>\n",
       "      <td>FF</td>\n",
       "      <td>605309FF</td>\n",
       "      <td>4-Seamer</td>\n",
       "      <td>11.3</td>\n",
       "      <td>16</td>\n",
       "      <td>6.3</td>\n",
       "      <td>0</td>\n",
       "      <td>2336</td>\n",
       "      <td>91.1</td>\n",
       "      <td>0</td>\n",
       "    </tr>\n",
       "    <tr>\n",
       "      <td>4</td>\n",
       "      <td>2021</td>\n",
       "      <td>Miller</td>\n",
       "      <td>Shelby</td>\n",
       "      <td>Shelby Miller</td>\n",
       "      <td>571946</td>\n",
       "      <td>Pirates</td>\n",
       "      <td>PIT</td>\n",
       "      <td>93.4</td>\n",
       "      <td>FF</td>\n",
       "      <td>571946FF</td>\n",
       "      <td>4-Seamer</td>\n",
       "      <td>12.6</td>\n",
       "      <td>20</td>\n",
       "      <td>8.0</td>\n",
       "      <td>5</td>\n",
       "      <td>2362</td>\n",
       "      <td>95.0</td>\n",
       "      <td>0</td>\n",
       "    </tr>\n",
       "    <tr>\n",
       "      <td>...</td>\n",
       "      <td>...</td>\n",
       "      <td>...</td>\n",
       "      <td>...</td>\n",
       "      <td>...</td>\n",
       "      <td>...</td>\n",
       "      <td>...</td>\n",
       "      <td>...</td>\n",
       "      <td>...</td>\n",
       "      <td>...</td>\n",
       "      <td>...</td>\n",
       "      <td>...</td>\n",
       "      <td>...</td>\n",
       "      <td>...</td>\n",
       "      <td>...</td>\n",
       "      <td>...</td>\n",
       "      <td>...</td>\n",
       "      <td>...</td>\n",
       "      <td>...</td>\n",
       "    </tr>\n",
       "    <tr>\n",
       "      <td>1685</td>\n",
       "      <td>2021</td>\n",
       "      <td>Toussaint</td>\n",
       "      <td>Touki</td>\n",
       "      <td>Touki Toussaint</td>\n",
       "      <td>657053</td>\n",
       "      <td>Braves</td>\n",
       "      <td>ATL</td>\n",
       "      <td>87.1</td>\n",
       "      <td>FS</td>\n",
       "      <td>657053FS</td>\n",
       "      <td>Splitter</td>\n",
       "      <td>34.3</td>\n",
       "      <td>4</td>\n",
       "      <td>7.2</td>\n",
       "      <td>-25</td>\n",
       "      <td>1335</td>\n",
       "      <td>77.7</td>\n",
       "      <td>0</td>\n",
       "    </tr>\n",
       "    <tr>\n",
       "      <td>1686</td>\n",
       "      <td>2021</td>\n",
       "      <td>Faria</td>\n",
       "      <td>Jake</td>\n",
       "      <td>Jake Faria</td>\n",
       "      <td>607188</td>\n",
       "      <td>D-backs</td>\n",
       "      <td>ARI</td>\n",
       "      <td>82.5</td>\n",
       "      <td>FS</td>\n",
       "      <td>607188FS</td>\n",
       "      <td>Splitter</td>\n",
       "      <td>36.3</td>\n",
       "      <td>0</td>\n",
       "      <td>10.0</td>\n",
       "      <td>-4</td>\n",
       "      <td>1181</td>\n",
       "      <td>91.8</td>\n",
       "      <td>0</td>\n",
       "    </tr>\n",
       "    <tr>\n",
       "      <td>1687</td>\n",
       "      <td>2021</td>\n",
       "      <td>Darvish</td>\n",
       "      <td>Yu</td>\n",
       "      <td>Yu Darvish</td>\n",
       "      <td>506433</td>\n",
       "      <td>Padres</td>\n",
       "      <td>SD</td>\n",
       "      <td>89.3</td>\n",
       "      <td>FS</td>\n",
       "      <td>506433FS</td>\n",
       "      <td>Splitter</td>\n",
       "      <td>27.5</td>\n",
       "      <td>-9</td>\n",
       "      <td>8.0</td>\n",
       "      <td>-21</td>\n",
       "      <td>1450</td>\n",
       "      <td>66.1</td>\n",
       "      <td>0</td>\n",
       "    </tr>\n",
       "    <tr>\n",
       "      <td>1688</td>\n",
       "      <td>2021</td>\n",
       "      <td>Finnegan</td>\n",
       "      <td>Kyle</td>\n",
       "      <td>Kyle Finnegan</td>\n",
       "      <td>640448</td>\n",
       "      <td>Nationals</td>\n",
       "      <td>WSH</td>\n",
       "      <td>87.6</td>\n",
       "      <td>FS</td>\n",
       "      <td>640448FS</td>\n",
       "      <td>Splitter</td>\n",
       "      <td>28.7</td>\n",
       "      <td>-10</td>\n",
       "      <td>10.0</td>\n",
       "      <td>-1</td>\n",
       "      <td>1259</td>\n",
       "      <td>89.8</td>\n",
       "      <td>0</td>\n",
       "    </tr>\n",
       "    <tr>\n",
       "      <td>1689</td>\n",
       "      <td>2021</td>\n",
       "      <td>Swanson</td>\n",
       "      <td>Erik</td>\n",
       "      <td>Erik Swanson</td>\n",
       "      <td>657024</td>\n",
       "      <td>Mariners</td>\n",
       "      <td>SEA</td>\n",
       "      <td>83.5</td>\n",
       "      <td>FS</td>\n",
       "      <td>657024FS</td>\n",
       "      <td>Splitter</td>\n",
       "      <td>33.4</td>\n",
       "      <td>-7</td>\n",
       "      <td>9.9</td>\n",
       "      <td>-7</td>\n",
       "      <td>1087</td>\n",
       "      <td>85.3</td>\n",
       "      <td>0</td>\n",
       "    </tr>\n",
       "  </tbody>\n",
       "</table>\n",
       "<p>1690 rows × 18 columns</p>\n",
       "</div>"
      ],
      "text/plain": [
       "      year  last_name  first_name        Full_name  pitcher_id  team_name  \\\n",
       "0     2021     Bergen      Travis    Travis Bergen      664157  Blue Jays   \n",
       "1     2021   Sceroler         Mac     Mac Sceroler      669135    Orioles   \n",
       "2     2021    Beasley      Jeremy   Jeremy Beasley      676886  Blue Jays   \n",
       "3     2021       Kela       Keone       Keone Kela      605309     Padres   \n",
       "4     2021     Miller      Shelby    Shelby Miller      571946    Pirates   \n",
       "...    ...        ...         ...              ...         ...        ...   \n",
       "1685  2021  Toussaint       Touki  Touki Toussaint      657053     Braves   \n",
       "1686  2021      Faria        Jake       Jake Faria      607188    D-backs   \n",
       "1687  2021    Darvish          Yu       Yu Darvish      506433     Padres   \n",
       "1688  2021   Finnegan        Kyle    Kyle Finnegan      640448  Nationals   \n",
       "1689  2021    Swanson        Erik     Erik Swanson      657024   Mariners   \n",
       "\n",
       "     team_name_abbrev  avg_speed pitch_type player_pitch_id pitch_type_name  \\\n",
       "0                 TOR       92.3         FF        664157FF        4-Seamer   \n",
       "1                 BAL       92.7         FF        669135FF        4-Seamer   \n",
       "2                 TOR       95.1         FF        676886FF        4-Seamer   \n",
       "3                  SD       94.7         FF        605309FF        4-Seamer   \n",
       "4                 PIT       93.4         FF        571946FF        4-Seamer   \n",
       "...               ...        ...        ...             ...             ...   \n",
       "1685              ATL       87.1         FS        657053FS        Splitter   \n",
       "1686              ARI       82.5         FS        607188FS        Splitter   \n",
       "1687               SD       89.3         FS        506433FS        Splitter   \n",
       "1688              WSH       87.6         FS        640448FS        Splitter   \n",
       "1689              SEA       83.5         FS        657024FS        Splitter   \n",
       "\n",
       "      pitcher_break_z  rise  pitcher_break_x  Tail  Spin Rate  Spin Effiency   \\\n",
       "0                16.0     3             13.3    62       2341            98.0   \n",
       "1                13.1    13              5.7   -15       2487            90.1   \n",
       "2                13.0     9              6.4   -13       2500            85.1   \n",
       "3                11.3    16              6.3     0       2336            91.1   \n",
       "4                12.6    20              8.0     5       2362            95.0   \n",
       "...               ...   ...              ...   ...        ...             ...   \n",
       "1685             34.3     4              7.2   -25       1335            77.7   \n",
       "1686             36.3     0             10.0    -4       1181            91.8   \n",
       "1687             27.5    -9              8.0   -21       1450            66.1   \n",
       "1688             28.7   -10             10.0    -1       1259            89.8   \n",
       "1689             33.4    -7              9.9    -7       1087            85.3   \n",
       "\n",
       "      Class  \n",
       "0         0  \n",
       "1         0  \n",
       "2         0  \n",
       "3         0  \n",
       "4         0  \n",
       "...     ...  \n",
       "1685      0  \n",
       "1686      0  \n",
       "1687      0  \n",
       "1688      0  \n",
       "1689      0  \n",
       "\n",
       "[1690 rows x 18 columns]"
      ]
     },
     "execution_count": 35,
     "metadata": {},
     "output_type": "execute_result"
    }
   ],
   "source": [
    "data_cb"
   ]
  },
  {
   "cell_type": "code",
   "execution_count": 36,
   "metadata": {},
   "outputs": [
    {
     "name": "stdout",
     "output_type": "stream",
     "text": [
      "<class 'pandas.core.frame.DataFrame'>\n",
      "RangeIndex: 1690 entries, 0 to 1689\n",
      "Data columns (total 18 columns):\n",
      "year                1690 non-null int64\n",
      "last_name           1690 non-null object\n",
      " first_name         1690 non-null object\n",
      "Full_name           1690 non-null object\n",
      "pitcher_id          1690 non-null int64\n",
      "team_name           1690 non-null object\n",
      "team_name_abbrev    1690 non-null object\n",
      "avg_speed           1690 non-null float64\n",
      "pitch_type          1690 non-null object\n",
      "player_pitch_id     1690 non-null object\n",
      "pitch_type_name     1690 non-null object\n",
      "pitcher_break_z     1690 non-null float64\n",
      "rise                1690 non-null int64\n",
      "pitcher_break_x     1690 non-null float64\n",
      "Tail                1690 non-null int64\n",
      "Spin Rate           1690 non-null int64\n",
      "Spin Effiency       1690 non-null float64\n",
      "Class               1690 non-null int64\n",
      "dtypes: float64(4), int64(6), object(8)\n",
      "memory usage: 237.8+ KB\n"
     ]
    }
   ],
   "source": [
    "data_cb.info()"
   ]
  },
  {
   "cell_type": "code",
   "execution_count": 37,
   "metadata": {},
   "outputs": [],
   "source": [
    "uu_features = ['last_name', 'year',' first_name', 'Full_name', 'pitcher_id', 'team_name','team_name_abbrev','player_pitch_id','pitch_type_name','rise','Tail']"
   ]
  },
  {
   "cell_type": "code",
   "execution_count": 38,
   "metadata": {},
   "outputs": [],
   "source": [
    "data_cb_fixed = data_cb.drop(uu_features,axis =1)\n",
    "data_cb_fixed = data_cb_fixed.drop(\"pitch_type\", axis =1)"
   ]
  },
  {
   "cell_type": "code",
   "execution_count": 39,
   "metadata": {},
   "outputs": [],
   "source": [
    "x = data_cb_fixed.drop(\"Class\", axis = 1)\n",
    "y = data_cb_fixed[\"Class\"]"
   ]
  },
  {
   "cell_type": "code",
   "execution_count": 40,
   "metadata": {},
   "outputs": [],
   "source": [
    "from sklearn.linear_model import LogisticRegression\n",
    "from sklearn.model_selection import train_test_split "
   ]
  },
  {
   "cell_type": "code",
   "execution_count": 41,
   "metadata": {},
   "outputs": [],
   "source": [
    "log_model = LogisticRegression()"
   ]
  },
  {
   "cell_type": "code",
   "execution_count": 42,
   "metadata": {},
   "outputs": [],
   "source": [
    "x_train, x_test, y_train, y_test = train_test_split(x,y, test_size = 0.2)"
   ]
  },
  {
   "cell_type": "code",
   "execution_count": 43,
   "metadata": {},
   "outputs": [
    {
     "name": "stderr",
     "output_type": "stream",
     "text": [
      "/opt/anaconda3/lib/python3.7/site-packages/sklearn/linear_model/logistic.py:432: FutureWarning: Default solver will be changed to 'lbfgs' in 0.22. Specify a solver to silence this warning.\n",
      "  FutureWarning)\n"
     ]
    },
    {
     "data": {
      "text/plain": [
       "LogisticRegression(C=1.0, class_weight=None, dual=False, fit_intercept=True,\n",
       "                   intercept_scaling=1, l1_ratio=None, max_iter=100,\n",
       "                   multi_class='warn', n_jobs=None, penalty='l2',\n",
       "                   random_state=None, solver='warn', tol=0.0001, verbose=0,\n",
       "                   warm_start=False)"
      ]
     },
     "execution_count": 43,
     "metadata": {},
     "output_type": "execute_result"
    }
   ],
   "source": [
    "log_model.fit(x_train, y_train)"
   ]
  },
  {
   "cell_type": "code",
   "execution_count": 44,
   "metadata": {},
   "outputs": [],
   "source": [
    "predictions = log_model.predict(x_test)"
   ]
  },
  {
   "cell_type": "code",
   "execution_count": 45,
   "metadata": {},
   "outputs": [],
   "source": [
    "from sklearn.metrics import confusion_matrix, accuracy_score"
   ]
  },
  {
   "cell_type": "code",
   "execution_count": 46,
   "metadata": {},
   "outputs": [
    {
     "data": {
      "text/plain": [
       "0.9733727810650887"
      ]
     },
     "execution_count": 46,
     "metadata": {},
     "output_type": "execute_result"
    }
   ],
   "source": [
    "accuracy_score(predictions, y_test)"
   ]
  },
  {
   "cell_type": "code",
   "execution_count": 47,
   "metadata": {},
   "outputs": [
    {
     "data": {
      "text/plain": [
       "array([[291,   4],\n",
       "       [  5,  38]])"
      ]
     },
     "execution_count": 47,
     "metadata": {},
     "output_type": "execute_result"
    }
   ],
   "source": [
    "cm = confusion_matrix(y_test, predictions)\n",
    "cm"
   ]
  },
  {
   "cell_type": "code",
   "execution_count": 48,
   "metadata": {},
   "outputs": [
    {
     "name": "stdout",
     "output_type": "stream",
     "text": [
      "              precision    recall  f1-score   support\n",
      "\n",
      "           0       0.98      0.99      0.98       295\n",
      "           1       0.90      0.88      0.89        43\n",
      "\n",
      "    accuracy                           0.97       338\n",
      "   macro avg       0.94      0.94      0.94       338\n",
      "weighted avg       0.97      0.97      0.97       338\n",
      "\n"
     ]
    }
   ],
   "source": [
    "from sklearn.metrics import classification_report\n",
    "print(classification_report(y_test, predictions))"
   ]
  },
  {
   "cell_type": "code",
   "execution_count": 49,
   "metadata": {},
   "outputs": [],
   "source": [
    "dataNB = data_cb[:]"
   ]
  },
  {
   "cell_type": "code",
   "execution_count": 50,
   "metadata": {},
   "outputs": [
    {
     "data": {
      "text/html": [
       "<div>\n",
       "<style scoped>\n",
       "    .dataframe tbody tr th:only-of-type {\n",
       "        vertical-align: middle;\n",
       "    }\n",
       "\n",
       "    .dataframe tbody tr th {\n",
       "        vertical-align: top;\n",
       "    }\n",
       "\n",
       "    .dataframe thead th {\n",
       "        text-align: right;\n",
       "    }\n",
       "</style>\n",
       "<table border=\"1\" class=\"dataframe\">\n",
       "  <thead>\n",
       "    <tr style=\"text-align: right;\">\n",
       "      <th></th>\n",
       "      <th>year</th>\n",
       "      <th>last_name</th>\n",
       "      <th>first_name</th>\n",
       "      <th>Full_name</th>\n",
       "      <th>pitcher_id</th>\n",
       "      <th>team_name</th>\n",
       "      <th>team_name_abbrev</th>\n",
       "      <th>avg_speed</th>\n",
       "      <th>pitch_type</th>\n",
       "      <th>player_pitch_id</th>\n",
       "      <th>pitch_type_name</th>\n",
       "      <th>pitcher_break_z</th>\n",
       "      <th>rise</th>\n",
       "      <th>pitcher_break_x</th>\n",
       "      <th>Tail</th>\n",
       "      <th>Spin Rate</th>\n",
       "      <th>Spin Effiency</th>\n",
       "      <th>Class</th>\n",
       "    </tr>\n",
       "  </thead>\n",
       "  <tbody>\n",
       "    <tr>\n",
       "      <td>0</td>\n",
       "      <td>2021</td>\n",
       "      <td>Bergen</td>\n",
       "      <td>Travis</td>\n",
       "      <td>Travis Bergen</td>\n",
       "      <td>664157</td>\n",
       "      <td>Blue Jays</td>\n",
       "      <td>TOR</td>\n",
       "      <td>92.3</td>\n",
       "      <td>FF</td>\n",
       "      <td>664157FF</td>\n",
       "      <td>4-Seamer</td>\n",
       "      <td>16.0</td>\n",
       "      <td>3</td>\n",
       "      <td>13.3</td>\n",
       "      <td>62</td>\n",
       "      <td>2341</td>\n",
       "      <td>98.0</td>\n",
       "      <td>0</td>\n",
       "    </tr>\n",
       "    <tr>\n",
       "      <td>1</td>\n",
       "      <td>2021</td>\n",
       "      <td>Sceroler</td>\n",
       "      <td>Mac</td>\n",
       "      <td>Mac Sceroler</td>\n",
       "      <td>669135</td>\n",
       "      <td>Orioles</td>\n",
       "      <td>BAL</td>\n",
       "      <td>92.7</td>\n",
       "      <td>FF</td>\n",
       "      <td>669135FF</td>\n",
       "      <td>4-Seamer</td>\n",
       "      <td>13.1</td>\n",
       "      <td>13</td>\n",
       "      <td>5.7</td>\n",
       "      <td>-15</td>\n",
       "      <td>2487</td>\n",
       "      <td>90.1</td>\n",
       "      <td>0</td>\n",
       "    </tr>\n",
       "    <tr>\n",
       "      <td>2</td>\n",
       "      <td>2021</td>\n",
       "      <td>Beasley</td>\n",
       "      <td>Jeremy</td>\n",
       "      <td>Jeremy Beasley</td>\n",
       "      <td>676886</td>\n",
       "      <td>Blue Jays</td>\n",
       "      <td>TOR</td>\n",
       "      <td>95.1</td>\n",
       "      <td>FF</td>\n",
       "      <td>676886FF</td>\n",
       "      <td>4-Seamer</td>\n",
       "      <td>13.0</td>\n",
       "      <td>9</td>\n",
       "      <td>6.4</td>\n",
       "      <td>-13</td>\n",
       "      <td>2500</td>\n",
       "      <td>85.1</td>\n",
       "      <td>0</td>\n",
       "    </tr>\n",
       "    <tr>\n",
       "      <td>3</td>\n",
       "      <td>2021</td>\n",
       "      <td>Kela</td>\n",
       "      <td>Keone</td>\n",
       "      <td>Keone Kela</td>\n",
       "      <td>605309</td>\n",
       "      <td>Padres</td>\n",
       "      <td>SD</td>\n",
       "      <td>94.7</td>\n",
       "      <td>FF</td>\n",
       "      <td>605309FF</td>\n",
       "      <td>4-Seamer</td>\n",
       "      <td>11.3</td>\n",
       "      <td>16</td>\n",
       "      <td>6.3</td>\n",
       "      <td>0</td>\n",
       "      <td>2336</td>\n",
       "      <td>91.1</td>\n",
       "      <td>0</td>\n",
       "    </tr>\n",
       "    <tr>\n",
       "      <td>4</td>\n",
       "      <td>2021</td>\n",
       "      <td>Miller</td>\n",
       "      <td>Shelby</td>\n",
       "      <td>Shelby Miller</td>\n",
       "      <td>571946</td>\n",
       "      <td>Pirates</td>\n",
       "      <td>PIT</td>\n",
       "      <td>93.4</td>\n",
       "      <td>FF</td>\n",
       "      <td>571946FF</td>\n",
       "      <td>4-Seamer</td>\n",
       "      <td>12.6</td>\n",
       "      <td>20</td>\n",
       "      <td>8.0</td>\n",
       "      <td>5</td>\n",
       "      <td>2362</td>\n",
       "      <td>95.0</td>\n",
       "      <td>0</td>\n",
       "    </tr>\n",
       "  </tbody>\n",
       "</table>\n",
       "</div>"
      ],
      "text/plain": [
       "   year last_name  first_name       Full_name  pitcher_id  team_name  \\\n",
       "0  2021    Bergen      Travis   Travis Bergen      664157  Blue Jays   \n",
       "1  2021  Sceroler         Mac    Mac Sceroler      669135    Orioles   \n",
       "2  2021   Beasley      Jeremy  Jeremy Beasley      676886  Blue Jays   \n",
       "3  2021      Kela       Keone      Keone Kela      605309     Padres   \n",
       "4  2021    Miller      Shelby   Shelby Miller      571946    Pirates   \n",
       "\n",
       "  team_name_abbrev  avg_speed pitch_type player_pitch_id pitch_type_name  \\\n",
       "0              TOR       92.3         FF        664157FF        4-Seamer   \n",
       "1              BAL       92.7         FF        669135FF        4-Seamer   \n",
       "2              TOR       95.1         FF        676886FF        4-Seamer   \n",
       "3               SD       94.7         FF        605309FF        4-Seamer   \n",
       "4              PIT       93.4         FF        571946FF        4-Seamer   \n",
       "\n",
       "   pitcher_break_z  rise  pitcher_break_x  Tail  Spin Rate  Spin Effiency   \\\n",
       "0             16.0     3             13.3    62       2341            98.0   \n",
       "1             13.1    13              5.7   -15       2487            90.1   \n",
       "2             13.0     9              6.4   -13       2500            85.1   \n",
       "3             11.3    16              6.3     0       2336            91.1   \n",
       "4             12.6    20              8.0     5       2362            95.0   \n",
       "\n",
       "   Class  \n",
       "0      0  \n",
       "1      0  \n",
       "2      0  \n",
       "3      0  \n",
       "4      0  "
      ]
     },
     "execution_count": 50,
     "metadata": {},
     "output_type": "execute_result"
    }
   ],
   "source": [
    "dataNB.head()"
   ]
  },
  {
   "cell_type": "code",
   "execution_count": 51,
   "metadata": {},
   "outputs": [],
   "source": [
    "from sklearn.naive_bayes import GaussianNB"
   ]
  },
  {
   "cell_type": "code",
   "execution_count": 52,
   "metadata": {},
   "outputs": [],
   "source": [
    "model = GaussianNB()"
   ]
  },
  {
   "cell_type": "code",
   "execution_count": 53,
   "metadata": {},
   "outputs": [
    {
     "ename": "NameError",
     "evalue": "name 'data_NB' is not defined",
     "output_type": "error",
     "traceback": [
      "\u001b[0;31m---------------------------------------------------------------------------\u001b[0m",
      "\u001b[0;31mNameError\u001b[0m                                 Traceback (most recent call last)",
      "\u001b[0;32m<ipython-input-53-e204284d6035>\u001b[0m in \u001b[0;36m<module>\u001b[0;34m\u001b[0m\n\u001b[0;32m----> 1\u001b[0;31m \u001b[0mtrain\u001b[0m\u001b[0;34m,\u001b[0m \u001b[0mtest\u001b[0m \u001b[0;34m=\u001b[0m \u001b[0mtrain_test_split\u001b[0m\u001b[0;34m(\u001b[0m\u001b[0mdata_NB\u001b[0m\u001b[0;34m,\u001b[0m \u001b[0mtest_size\u001b[0m \u001b[0;34m=\u001b[0m \u001b[0;36m0.2\u001b[0m\u001b[0;34m)\u001b[0m\u001b[0;34m\u001b[0m\u001b[0;34m\u001b[0m\u001b[0m\n\u001b[0m\u001b[1;32m      2\u001b[0m \u001b[0mprint\u001b[0m\u001b[0;34m(\u001b[0m\u001b[0mtrain\u001b[0m\u001b[0;34m.\u001b[0m\u001b[0mshape\u001b[0m\u001b[0;34m)\u001b[0m\u001b[0;34m\u001b[0m\u001b[0;34m\u001b[0m\u001b[0m\n\u001b[1;32m      3\u001b[0m \u001b[0mprint\u001b[0m\u001b[0;34m(\u001b[0m\u001b[0mtest\u001b[0m\u001b[0;34m.\u001b[0m\u001b[0mshape\u001b[0m\u001b[0;34m)\u001b[0m\u001b[0;34m\u001b[0m\u001b[0;34m\u001b[0m\u001b[0m\n",
      "\u001b[0;31mNameError\u001b[0m: name 'data_NB' is not defined"
     ]
    }
   ],
   "source": [
    "train, test = train_test_split(data_NB, test_size = 0.2)\n",
    "print(train.shape)\n",
    "print(test.shape)"
   ]
  },
  {
   "cell_type": "code",
   "execution_count": 54,
   "metadata": {},
   "outputs": [
    {
     "name": "stdout",
     "output_type": "stream",
     "text": [
      "(1267, 5) (1267,)\n",
      "(423, 5) (423,)\n"
     ]
    }
   ],
   "source": [
    "x_train, x_test, y_train, y_test = train_test_split(x,y)\n",
    "print(x_train.shape,y_train.shape )\n",
    "print(x_test.shape, y_test.shape)"
   ]
  },
  {
   "cell_type": "code",
   "execution_count": 55,
   "metadata": {},
   "outputs": [
    {
     "data": {
      "text/plain": [
       "GaussianNB(priors=None, var_smoothing=1e-09)"
      ]
     },
     "execution_count": 55,
     "metadata": {},
     "output_type": "execute_result"
    }
   ],
   "source": [
    "model.fit(x_train,y_train)"
   ]
  },
  {
   "cell_type": "code",
   "execution_count": 56,
   "metadata": {},
   "outputs": [],
   "source": [
    "predictedCBNB= model.predict(x_test)\n",
    "expectedCBNB= y_test"
   ]
  },
  {
   "cell_type": "code",
   "execution_count": 57,
   "metadata": {},
   "outputs": [],
   "source": [
    "from sklearn import metrics"
   ]
  },
  {
   "cell_type": "code",
   "execution_count": 58,
   "metadata": {},
   "outputs": [
    {
     "data": {
      "text/plain": [
       "0.9574468085106383"
      ]
     },
     "execution_count": 58,
     "metadata": {},
     "output_type": "execute_result"
    }
   ],
   "source": [
    "metrics.accuracy_score(predictedCBNB,expectedCBNB)"
   ]
  },
  {
   "cell_type": "code",
   "execution_count": 59,
   "metadata": {},
   "outputs": [
    {
     "data": {
      "text/plain": [
       "array([[354,  13],\n",
       "       [  5,  51]])"
      ]
     },
     "execution_count": 59,
     "metadata": {},
     "output_type": "execute_result"
    }
   ],
   "source": [
    "matrix = confusion_matrix(expectedCBNB, predictedCBNB)\n",
    "matrix"
   ]
  },
  {
   "cell_type": "code",
   "execution_count": 60,
   "metadata": {},
   "outputs": [
    {
     "name": "stdout",
     "output_type": "stream",
     "text": [
      "              precision    recall  f1-score   support\n",
      "\n",
      "           0       0.99      0.96      0.98       367\n",
      "           1       0.80      0.91      0.85        56\n",
      "\n",
      "    accuracy                           0.96       423\n",
      "   macro avg       0.89      0.94      0.91       423\n",
      "weighted avg       0.96      0.96      0.96       423\n",
      "\n"
     ]
    }
   ],
   "source": [
    "print(classification_report(expectedCBNB, predictedCBNB))"
   ]
  },
  {
   "cell_type": "code",
   "execution_count": null,
   "metadata": {},
   "outputs": [],
   "source": []
  }
 ],
 "metadata": {
  "kernelspec": {
   "display_name": "Python 3",
   "language": "python",
   "name": "python3"
  },
  "language_info": {
   "codemirror_mode": {
    "name": "ipython",
    "version": 3
   },
   "file_extension": ".py",
   "mimetype": "text/x-python",
   "name": "python",
   "nbconvert_exporter": "python",
   "pygments_lexer": "ipython3",
   "version": "3.7.4"
  }
 },
 "nbformat": 4,
 "nbformat_minor": 2
}
